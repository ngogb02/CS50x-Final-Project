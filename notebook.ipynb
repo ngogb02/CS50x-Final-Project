{
 "cells": [
  {
   "cell_type": "code",
   "execution_count": null,
   "metadata": {},
   "outputs": [],
   "source": [
    "if request.method == \"POST\":\n",
    "        points:              dict = fetchAPI_points(request.form.get('latitude'), request.form.get('longitude'))\n",
    "        forecastdata:        dict = fetchAPI_forecastdata(request.form.get('latitude'), request.form.get('longitude'))\n",
    "        detailedForecastPlot: BytesIO = graphUrl.getDetailedForecast(request.form.get('latitude'), -121.41549110412599)\n",
    "        img_base64 = encode_image_to_base64(detailedForecastPlot)"
   ]
  },
  {
   "cell_type": "code",
   "execution_count": null,
   "metadata": {},
   "outputs": [],
   "source": [
    "# Use to get location's city name and state name.\n",
    "# Function GETS Lat and Long from user input via route()\n",
    "def fetchAPI_points(latitude: float, longitude: float) -> dict:\n",
    "    # can modify to request user's input of lat and lon.\n",
    "    # latitude: float  = 47.402094608175815\n",
    "    # longitude: float = -121.41549110412599\n",
    "    fetch_url_points: str = f\"https://api.weather.gov/points/{latitude},{longitude}\"\n",
    "    response = requests.get(fetch_url_points)\n",
    "\n",
    "    if response.status_code == 200:\n",
    "        points_json = response.json()\n",
    "        return points_json\n",
    "    \n",
    "    else:\n",
    "        print(f\"Failed to retrieve data: {response.status_code}\")\n",
    "\n",
    "# Use to get location's elevation and forecast \"detailedForecast\"-(hover in page) and \"shortForecast\"-(shown in page)\n",
    "# Function calls fetchAPI_points \n",
    "def fetchAPI_forecastdata() -> dict:\n",
    "\n",
    "    points_json = fetchAPI_points()\n",
    "    response = requests.get(points_json[\"properties\"][\"forecast\"])\n",
    "\n",
    "    if response.status_code == 200:\n",
    "        forecastdata_json = response.json()\n",
    "        return forecastdata_json\n",
    "    \n",
    "    else:\n",
    "        print(f\"fetchAPI_forecastdata failed to retrieve data: {response.status_code}\")\n",
    "\n",
    "# NO LONGER IN USE - use to get location's hourly forecast (expansive raw data)\n",
    "def fetchAPI_forecastGridData() -> dict:\n",
    "\n",
    "    points_json = fetchAPI_points()\n",
    "\n",
    "    response = requests.get(points_json[\"properties\"][\"forecastGridData\"])\n",
    "\n",
    "    if response.status_code == 200:\n",
    "        forecastGridData_json = response.json()\n",
    "\n",
    "        return forecastGridData_json\n",
    "    else:\n",
    "        print(f\"fetchAPI_forecashhourlydata failed to retrieve data: {response.status_code}\")"
   ]
  },
  {
   "cell_type": "code",
   "execution_count": null,
   "metadata": {},
   "outputs": [],
   "source": [
    "#region: Custom Jinja filler functions\n",
    "# Custom Jinja filler to reformat ISOtime to 12hr PM/AM time\n",
    "@app.template_filter('ISO_time_reformat')\n",
    "def format_time(iso_time: str):\n",
    "    datetime_obj = datetime.fromisoformat(iso_time)\n",
    "    # Return only hour and AM/PM - ex: 12PM, 6AM, etc... \n",
    "    return datetime_obj.strftime('%I%p').lstrip('0')\n",
    "\n",
    "# Custom Jinja filler to convert numerical meter to feet\n",
    "@app.template_filter('meter_to_feet')\n",
    "def format_elevation(meter):\n",
    "    feet = meter * 3.28084\n",
    "    return int(feet)\n",
    "\n",
    "# Tells browsers to never cache response (meaning that request to the server is always made)\n",
    "@app.after_request\n",
    "def after_request(response):\n",
    "    \"\"\"Ensure responses aren't cached\"\"\"\n",
    "    response.headers[\"Cache-Control\"] = \"no-cache, no-store, must-revalidate\"\n",
    "    response.headers[\"Expires\"] = 0\n",
    "    response.headers[\"Pragma\"] = \"no-cache\"\n",
    "    return response\n",
    "\n",
    "    # Ensure that the input coming in will have the pointer starting at the front of the allocated memory. \n",
    "    img_io.seek(0)\n",
    "    # Binary image data (bytes) → Base64-encoded data (bytes) → Base64-encoded string (str).\n",
    "    base64_img = base64.b64encode(img_io.getvalue()).decode('ascii')\n",
    "    # Return a string neccesary to display the image as PNG in html.\n",
    "    return f'data:image/png;base64,{base64_img}'\n",
    "#"
   ]
  },
  {
   "cell_type": "code",
   "execution_count": null,
   "metadata": {},
   "outputs": [],
   "source": [
    "# Tells browsers to never cache response (meaning that request to the server is always made)"
   ]
  }
 ],
 "metadata": {
  "kernelspec": {
   "display_name": "venv",
   "language": "python",
   "name": "python3"
  },
  "language_info": {
   "codemirror_mode": {
    "name": "ipython",
    "version": 3
   },
   "file_extension": ".py",
   "mimetype": "text/x-python",
   "name": "python",
   "nbconvert_exporter": "python",
   "pygments_lexer": "ipython3",
   "version": "3.13.2"
  }
 },
 "nbformat": 4,
 "nbformat_minor": 2
}
