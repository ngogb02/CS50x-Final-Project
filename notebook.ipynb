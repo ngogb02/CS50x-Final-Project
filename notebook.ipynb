{
 "cells": [
  {
   "cell_type": "code",
   "execution_count": null,
   "metadata": {},
   "outputs": [],
   "source": [
    "#                 Summit at Snoqualmie : 47.409478, -121.421320\n",
    "#     Crystal Mtn Resort (chair 6 spot): 46.922385, -121.502320\n",
    "# Mtn Baker Ski Area (Heather Meadows) : 48.863, -121.677\n",
    "# Stevens Pass (Top of Juputer Express): 47.731791, -121.085012\n",
    "#           Alpental (Top of ArmStrong): 47.435697, -121.434410"
   ]
  },
  {
   "cell_type": "code",
   "execution_count": null,
   "metadata": {},
   "outputs": [],
   "source": [
    " # Build a forecast dictionary.\n",
    "        # forecast = {\n",
    "        #     \"latitude\" : latitude,\n",
    "        #     \"longitude\": longitude,\n",
    "        #     \"forecastdata_periods\" : forecastdata.get(\"properties\", {}).get(\"periods\", []),\n",
    "        #     \"elevation\" : forecastdata.get(\"properties\", {}).get(\"elevation\", {\"unitCode\": \"\", \"value\": 0}),\n",
    "        #     \"location\" : points.get(\"properties\", {}).get(\"relativeLocation\", {}).get(\"properties\", {}),\n",
    "        #     \"detailedForecastPlot\" : img_base64,\n",
    "        # }"
   ]
  },
  {
   "cell_type": "code",
   "execution_count": null,
   "metadata": {},
   "outputs": [],
   "source": [
    "# Append the forecast dictionary to the session-stored list\n",
    "        # Check if there's already a list of forecasts stored in the session. If not, create an empty list.\n",
    "        # Update the session with the latest forecast after appending the new forecast.\n",
    "        # forecasts: list = Session.get(\"forecasts\", [])\n",
    "        # forecasts.append(forecast)\n",
    "        # Session[\"forecasts\"] = forecasts\n",
    "\n",
    "        # Redirect to GET to display the forecast[s].\n",
    "    #     return redirect(url_for(\"index\"))\n",
    "    \n",
    "    # forecasts = Session.get(\"forecasts\", [])"
   ]
  }
 ],
 "metadata": {
  "kernelspec": {
   "display_name": "venv",
   "language": "python",
   "name": "python3"
  },
  "language_info": {
   "codemirror_mode": {
    "name": "ipython",
    "version": 3
   },
   "file_extension": ".py",
   "mimetype": "text/x-python",
   "name": "python",
   "nbconvert_exporter": "python",
   "pygments_lexer": "ipython3",
   "version": "3.13.2"
  }
 },
 "nbformat": 4,
 "nbformat_minor": 2
}
